{
 "cells": [
  {
   "cell_type": "code",
   "execution_count": 2,
   "id": "1ea4e9eb",
   "metadata": {},
   "outputs": [
    {
     "name": "stdout",
     "output_type": "stream",
     "text": [
      "Collecting selenium\n",
      "  Using cached selenium-4.32.0-py3-none-any.whl.metadata (7.5 kB)\n",
      "Requirement already satisfied: urllib3<3,>=1.26 in /opt/anaconda3/lib/python3.10/site-packages (from urllib3[socks]<3,>=1.26->selenium) (2.3.0)\n",
      "Collecting trio~=0.17 (from selenium)\n",
      "  Using cached trio-0.30.0-py3-none-any.whl.metadata (8.5 kB)\n",
      "Collecting trio-websocket~=0.9 (from selenium)\n",
      "  Using cached trio_websocket-0.12.2-py3-none-any.whl.metadata (5.1 kB)\n",
      "Requirement already satisfied: certifi>=2021.10.8 in /opt/anaconda3/lib/python3.10/site-packages (from selenium) (2024.12.14)\n",
      "Requirement already satisfied: typing_extensions~=4.9 in /opt/anaconda3/lib/python3.10/site-packages (from selenium) (4.12.2)\n",
      "Requirement already satisfied: websocket-client~=1.8 in /opt/anaconda3/lib/python3.10/site-packages (from selenium) (1.8.0)\n",
      "Requirement already satisfied: attrs>=23.2.0 in /opt/anaconda3/lib/python3.10/site-packages (from trio~=0.17->selenium) (24.3.0)\n",
      "Requirement already satisfied: sortedcontainers in /opt/anaconda3/lib/python3.10/site-packages (from trio~=0.17->selenium) (2.4.0)\n",
      "Requirement already satisfied: idna in /opt/anaconda3/lib/python3.10/site-packages (from trio~=0.17->selenium) (3.7)\n",
      "Collecting outcome (from trio~=0.17->selenium)\n",
      "  Using cached outcome-1.3.0.post0-py2.py3-none-any.whl.metadata (2.6 kB)\n",
      "Requirement already satisfied: sniffio>=1.3.0 in /opt/anaconda3/lib/python3.10/site-packages (from trio~=0.17->selenium) (1.3.0)\n",
      "Requirement already satisfied: exceptiongroup in /opt/anaconda3/lib/python3.10/site-packages (from trio~=0.17->selenium) (1.2.0)\n",
      "Collecting wsproto>=0.14 (from trio-websocket~=0.9->selenium)\n",
      "  Using cached wsproto-1.2.0-py3-none-any.whl.metadata (5.6 kB)\n",
      "Requirement already satisfied: pysocks!=1.5.7,<2.0,>=1.5.6 in /opt/anaconda3/lib/python3.10/site-packages (from urllib3[socks]<3,>=1.26->selenium) (1.7.1)\n",
      "Requirement already satisfied: h11<1,>=0.9.0 in /opt/anaconda3/lib/python3.10/site-packages (from wsproto>=0.14->trio-websocket~=0.9->selenium) (0.14.0)\n",
      "Using cached selenium-4.32.0-py3-none-any.whl (9.4 MB)\n",
      "Using cached trio-0.30.0-py3-none-any.whl (499 kB)\n",
      "Using cached trio_websocket-0.12.2-py3-none-any.whl (21 kB)\n",
      "Using cached outcome-1.3.0.post0-py2.py3-none-any.whl (10 kB)\n",
      "Using cached wsproto-1.2.0-py3-none-any.whl (24 kB)\n",
      "Installing collected packages: wsproto, outcome, trio, trio-websocket, selenium\n",
      "Successfully installed outcome-1.3.0.post0 selenium-4.32.0 trio-0.30.0 trio-websocket-0.12.2 wsproto-1.2.0\n",
      "\n",
      "\u001b[1m[\u001b[0m\u001b[34;49mnotice\u001b[0m\u001b[1;39;49m]\u001b[0m\u001b[39;49m A new release of pip is available: \u001b[0m\u001b[31;49m25.0.1\u001b[0m\u001b[39;49m -> \u001b[0m\u001b[32;49m25.1.1\u001b[0m\n",
      "\u001b[1m[\u001b[0m\u001b[34;49mnotice\u001b[0m\u001b[1;39;49m]\u001b[0m\u001b[39;49m To update, run: \u001b[0m\u001b[32;49mpip install --upgrade pip\u001b[0m\n",
      "Collecting bs4\n",
      "  Using cached bs4-0.0.2-py2.py3-none-any.whl.metadata (411 bytes)\n",
      "Requirement already satisfied: beautifulsoup4 in /opt/anaconda3/lib/python3.10/site-packages (from bs4) (4.12.3)\n",
      "Requirement already satisfied: soupsieve>1.2 in /opt/anaconda3/lib/python3.10/site-packages (from beautifulsoup4->bs4) (2.5)\n",
      "Using cached bs4-0.0.2-py2.py3-none-any.whl (1.2 kB)\n",
      "Installing collected packages: bs4\n",
      "Successfully installed bs4-0.0.2\n",
      "\n",
      "\u001b[1m[\u001b[0m\u001b[34;49mnotice\u001b[0m\u001b[1;39;49m]\u001b[0m\u001b[39;49m A new release of pip is available: \u001b[0m\u001b[31;49m25.0.1\u001b[0m\u001b[39;49m -> \u001b[0m\u001b[32;49m25.1.1\u001b[0m\n",
      "\u001b[1m[\u001b[0m\u001b[34;49mnotice\u001b[0m\u001b[1;39;49m]\u001b[0m\u001b[39;49m To update, run: \u001b[0m\u001b[32;49mpip install --upgrade pip\u001b[0m\n"
     ]
    }
   ],
   "source": [
    "!pip install selenium\n",
    "!pip install bs4"
   ]
  },
  {
   "cell_type": "code",
   "execution_count": 3,
   "id": "d4696e8d",
   "metadata": {},
   "outputs": [
    {
     "name": "stdout",
     "output_type": "stream",
     "text": [
      "✅ Page 1 scraped — Total products so far: 24\n",
      "✅ Page 2 scraped — Total products so far: 48\n",
      "✅ Page 3 scraped — Total products so far: 72\n",
      "✅ Page 4 scraped — Total products so far: 96\n",
      "✅ Page 5 scraped — Total products so far: 120\n",
      "✅ Page 6 scraped — Total products so far: 144\n",
      "✅ Page 7 scraped — Total products so far: 168\n",
      "✅ Page 8 scraped — Total products so far: 192\n",
      "✅ Page 9 scraped — Total products so far: 216\n",
      "✅ Page 10 scraped — Total products so far: 240\n",
      "✅ Page 11 scraped — Total products so far: 264\n",
      "✅ Page 12 scraped — Total products so far: 288\n",
      "✅ Page 13 scraped — Total products so far: 312\n",
      "✅ Page 14 scraped — Total products so far: 336\n",
      "✅ Page 15 scraped — Total products so far: 360\n",
      "✅ Page 16 scraped — Total products so far: 384\n",
      "✅ Page 17 scraped — Total products so far: 408\n",
      "✅ Page 18 scraped — Total products so far: 432\n",
      "✅ Page 19 scraped — Total products so far: 456\n",
      "✅ Page 20 scraped — Total products so far: 480\n",
      "✅ Page 21 scraped — Total products so far: 504\n",
      "✅ Page 22 scraped — Total products so far: 528\n",
      "✅ Page 23 scraped — Total products so far: 552\n",
      "✅ Page 24 scraped — Total products so far: 576\n",
      "✅ Page 25 scraped — Total products so far: 600\n",
      "✅ Page 26 scraped — Total products so far: 624\n",
      "✅ Page 27 scraped — Total products so far: 648\n",
      "✅ Page 28 scraped — Total products so far: 672\n",
      "✅ Page 29 scraped — Total products so far: 696\n",
      "✅ Saved data to 'flipkart_laptop_final.csv'\n"
     ]
    }
   ],
   "source": [
    "from selenium import webdriver\n",
    "from selenium.webdriver.common.by import By\n",
    "from selenium.webdriver.chrome.options import Options\n",
    "from bs4 import BeautifulSoup\n",
    "import time\n",
    "import csv\n",
    "\n",
    "# 1. Setup headless Chrome\n",
    "chrome_options = Options()\n",
    "chrome_options.add_argument(\"--headless\")\n",
    "chrome_options.add_argument(\"--disable-gpu\")\n",
    "driver = webdriver.Chrome(options=chrome_options)\n",
    "\n",
    "all_products = []\n",
    "\n",
    "# 2. Loop through multiple Flipkart search result pages\n",
    "for page in range(1, 30): \n",
    "    url = f\"https://www.flipkart.com/search?q=laptop&page={page}\"\n",
    "    driver.get(url)\n",
    "    time.sleep(3)  # Allow page to load\n",
    "\n",
    "    soup = BeautifulSoup(driver.page_source, \"html.parser\")\n",
    "    products = soup.find_all(\"div\", {\"data-id\": True})\n",
    "\n",
    "    for item in products:\n",
    "        # Basic Details\n",
    "        name_tag = item.find(\"div\", class_=\"KzDlHZ\")\n",
    "        specs_tag = item.find(\"div\", class_=\"_6NESgJ\")\n",
    "        rating_tag = item.find(\"div\", class_=\"XQDdHH\") or item.find(\"span\", class_=\"Y1HW00\")\n",
    "        price_tag = item.find(\"div\", class_=\"hl05eU\") or item.find(\"span\", class_=\"cN1yY0\")\n",
    "        link_tag = item.find(\"a\", href=True)\n",
    "\n",
    "        name = name_tag.get_text().strip() if name_tag else \"Not found\"\n",
    "        specs = specs_tag.get_text().strip() if specs_tag else \"Not found\"\n",
    "        rating = rating_tag.get_text().strip() if rating_tag else \"Not found\"\n",
    "        price = price_tag.get_text().strip() if price_tag else \"Not found\"\n",
    "        product_url = \"https://www.flipkart.com\" + link_tag[\"href\"] if link_tag else \"Not found\"\n",
    "\n",
    "        # Extra Details from Product Page\n",
    "        battery = weight = webcam = display = \"Not found\"\n",
    "\n",
    "        if product_url != \"Not found\":\n",
    "            try:\n",
    "                driver.get(product_url)\n",
    "                time.sleep(2)\n",
    "                detail_soup = BeautifulSoup(driver.page_source, \"html.parser\")\n",
    "                table_cells = detail_soup.find_all(\"td\")\n",
    "\n",
    "                for i in range(len(table_cells)):\n",
    "                    label = table_cells[i].get_text().lower()\n",
    "                    value = table_cells[i + 1].get_text() if i + 1 < len(table_cells) else \"\"\n",
    "\n",
    "                    if \"battery\" in label or \"battery backup\" in label:\n",
    "                        battery = value\n",
    "                    elif \"weight\" in label:\n",
    "                        weight = value\n",
    "                    elif \"web camera\" in label or \"webcam\" in label:\n",
    "                        webcam = value\n",
    "                    elif \"display size\" in label or \"screen size\" in label:\n",
    "                        display = value\n",
    "\n",
    "            except Exception as e:\n",
    "                print(f\"⚠️ Failed to extract details from {product_url}\")\n",
    "\n",
    "        # Save product data\n",
    "        all_products.append([\n",
    "            name, specs, rating, price, product_url,\n",
    "            battery, weight, webcam, display\n",
    "        ])\n",
    "\n",
    "    print(f\"✅ Page {page} scraped — Total products so far: {len(all_products)}\")\n",
    "\n",
    "# 3. Close browser\n",
    "driver.quit()\n",
    "\n",
    "# 4. Save data to CSV\n",
    "with open(\"flipkart_laptop_final.csv\", \"w\", newline=\"\", encoding=\"utf-8\") as f:\n",
    "    writer = csv.writer(f)\n",
    "    writer.writerow([\n",
    "        \"Product Name\", \"Specifications\", \"Rating\", \"Price\", \"Product URL\",\n",
    "        \"Battery Life\", \"Weight\", \"Webcam\", \"Display Size\"\n",
    "    ])\n",
    "    writer.writerows(all_products)\n",
    "\n",
    "print(\"✅ Saved data to 'flipkart_laptop_final.csv'\")\n"
   ]
  },
  {
   "cell_type": "code",
   "execution_count": 5,
   "id": "aa500571",
   "metadata": {},
   "outputs": [
    {
     "name": "stdout",
     "output_type": "stream",
     "text": [
      "Requirement already satisfied: pandas in /opt/anaconda3/lib/python3.10/site-packages (2.2.3)\n",
      "Requirement already satisfied: numpy>=1.22.4 in /opt/anaconda3/lib/python3.10/site-packages (from pandas) (1.26.4)\n",
      "Requirement already satisfied: python-dateutil>=2.8.2 in /opt/anaconda3/lib/python3.10/site-packages (from pandas) (2.9.0.post0)\n",
      "Requirement already satisfied: pytz>=2020.1 in /opt/anaconda3/lib/python3.10/site-packages (from pandas) (2024.1)\n",
      "Requirement already satisfied: tzdata>=2022.7 in /opt/anaconda3/lib/python3.10/site-packages (from pandas) (2023.3)\n",
      "Requirement already satisfied: six>=1.5 in /opt/anaconda3/lib/python3.10/site-packages (from python-dateutil>=2.8.2->pandas) (1.16.0)\n",
      "\n",
      "\u001b[1m[\u001b[0m\u001b[34;49mnotice\u001b[0m\u001b[1;39;49m]\u001b[0m\u001b[39;49m A new release of pip is available: \u001b[0m\u001b[31;49m25.0.1\u001b[0m\u001b[39;49m -> \u001b[0m\u001b[32;49m25.1.1\u001b[0m\n",
      "\u001b[1m[\u001b[0m\u001b[34;49mnotice\u001b[0m\u001b[1;39;49m]\u001b[0m\u001b[39;49m To update, run: \u001b[0m\u001b[32;49mpip install --upgrade pip\u001b[0m\n"
     ]
    }
   ],
   "source": [
    "!pip install pandas\n",
    "\n"
   ]
  },
  {
   "cell_type": "code",
   "execution_count": 7,
   "id": "5287413d",
   "metadata": {},
   "outputs": [
    {
     "data": {
      "text/html": [
       "<div>\n",
       "<style scoped>\n",
       "    .dataframe tbody tr th:only-of-type {\n",
       "        vertical-align: middle;\n",
       "    }\n",
       "\n",
       "    .dataframe tbody tr th {\n",
       "        vertical-align: top;\n",
       "    }\n",
       "\n",
       "    .dataframe thead th {\n",
       "        text-align: right;\n",
       "    }\n",
       "</style>\n",
       "<table border=\"1\" class=\"dataframe\">\n",
       "  <thead>\n",
       "    <tr style=\"text-align: right;\">\n",
       "      <th></th>\n",
       "      <th>Product Name</th>\n",
       "      <th>Specifications</th>\n",
       "      <th>Rating</th>\n",
       "      <th>Price</th>\n",
       "      <th>Product URL</th>\n",
       "      <th>Battery Life</th>\n",
       "      <th>Weight</th>\n",
       "      <th>Webcam</th>\n",
       "      <th>Display Size</th>\n",
       "    </tr>\n",
       "  </thead>\n",
       "  <tbody>\n",
       "    <tr>\n",
       "      <th>0</th>\n",
       "      <td>HP Backlit Intel Core i5 12th Gen 1235U - (8 G...</td>\n",
       "      <td>Intel Core i5 Processor (12th Gen)8 GB DDR4 RA...</td>\n",
       "      <td>4.3</td>\n",
       "      <td>₹44,990₹70,06435% off</td>\n",
       "      <td>https://www.flipkart.com/hp-backlit-intel-core...</td>\n",
       "      <td>Warranty Summary</td>\n",
       "      <td>1.69 Kg</td>\n",
       "      <td>HP True Vision 720p HD camera</td>\n",
       "      <td>39.62 cm (15.6 Inch)</td>\n",
       "    </tr>\n",
       "    <tr>\n",
       "      <th>1</th>\n",
       "      <td>ASUS Vivobook 16X for Creator, Intel Core i5 1...</td>\n",
       "      <td>Intel Core i5 Processor (12th Gen)16 GB DDR4 R...</td>\n",
       "      <td>4.2</td>\n",
       "      <td>₹66,490₹84,99021% off</td>\n",
       "      <td>https://www.flipkart.com/asus-vivobook-16x-cre...</td>\n",
       "      <td>Not found</td>\n",
       "      <td>1.80 Kg</td>\n",
       "      <td>720p HD camera With privacy shutter</td>\n",
       "      <td>40.64 cm (16 Inch)</td>\n",
       "    </tr>\n",
       "    <tr>\n",
       "      <th>2</th>\n",
       "      <td>HP Intel Core i5 12th Gen 1235U - (16 GB/512 G...</td>\n",
       "      <td>Intel Core i5 Processor (12th Gen)16 GB DDR4 R...</td>\n",
       "      <td>4.3</td>\n",
       "      <td>₹49,990₹62,52620% off</td>\n",
       "      <td>https://www.flipkart.com/hp-intel-core-i5-12th...</td>\n",
       "      <td>Not found</td>\n",
       "      <td>1.69 Kg</td>\n",
       "      <td>HP True Vision 720p HD camera with temporal no...</td>\n",
       "      <td>39.62 cm (15.6 inch)</td>\n",
       "    </tr>\n",
       "    <tr>\n",
       "      <th>3</th>\n",
       "      <td>ASUS Vivobook Go 15 AMD Ryzen 3 Quad Core 7320...</td>\n",
       "      <td>AMD Ryzen 3 Quad Core Processor8 GB LPDDR5 RAM...</td>\n",
       "      <td>4.2</td>\n",
       "      <td>₹29,990₹44,99033% off</td>\n",
       "      <td>https://www.flipkart.com/asus-vivobook-go-15-a...</td>\n",
       "      <td>3-cell Li-ion</td>\n",
       "      <td>1.63 Kg</td>\n",
       "      <td>720p HD camera With privacy shutter</td>\n",
       "      <td>39.62 cm (15.6 Inch)</td>\n",
       "    </tr>\n",
       "    <tr>\n",
       "      <th>4</th>\n",
       "      <td>ASUS Vivobook 15 Intel Core i3 13th Gen 1315U ...</td>\n",
       "      <td>Intel Core i3 Processor (13th Gen)16 GB DDR4 R...</td>\n",
       "      <td>4.3</td>\n",
       "      <td>₹37,990₹56,99033% off</td>\n",
       "      <td>https://www.flipkart.com/asus-vivobook-15-inte...</td>\n",
       "      <td>3-cell Li-ion</td>\n",
       "      <td>1.7 Kg</td>\n",
       "      <td>720p HD camera With privacy shutter</td>\n",
       "      <td>39.62 cm (15.6 Inch)</td>\n",
       "    </tr>\n",
       "  </tbody>\n",
       "</table>\n",
       "</div>"
      ],
      "text/plain": [
       "                                        Product Name  \\\n",
       "0  HP Backlit Intel Core i5 12th Gen 1235U - (8 G...   \n",
       "1  ASUS Vivobook 16X for Creator, Intel Core i5 1...   \n",
       "2  HP Intel Core i5 12th Gen 1235U - (16 GB/512 G...   \n",
       "3  ASUS Vivobook Go 15 AMD Ryzen 3 Quad Core 7320...   \n",
       "4  ASUS Vivobook 15 Intel Core i3 13th Gen 1315U ...   \n",
       "\n",
       "                                      Specifications Rating  \\\n",
       "0  Intel Core i5 Processor (12th Gen)8 GB DDR4 RA...    4.3   \n",
       "1  Intel Core i5 Processor (12th Gen)16 GB DDR4 R...    4.2   \n",
       "2  Intel Core i5 Processor (12th Gen)16 GB DDR4 R...    4.3   \n",
       "3  AMD Ryzen 3 Quad Core Processor8 GB LPDDR5 RAM...    4.2   \n",
       "4  Intel Core i3 Processor (13th Gen)16 GB DDR4 R...    4.3   \n",
       "\n",
       "                   Price                                        Product URL  \\\n",
       "0  ₹44,990₹70,06435% off  https://www.flipkart.com/hp-backlit-intel-core...   \n",
       "1  ₹66,490₹84,99021% off  https://www.flipkart.com/asus-vivobook-16x-cre...   \n",
       "2  ₹49,990₹62,52620% off  https://www.flipkart.com/hp-intel-core-i5-12th...   \n",
       "3  ₹29,990₹44,99033% off  https://www.flipkart.com/asus-vivobook-go-15-a...   \n",
       "4  ₹37,990₹56,99033% off  https://www.flipkart.com/asus-vivobook-15-inte...   \n",
       "\n",
       "       Battery Life   Weight  \\\n",
       "0  Warranty Summary  1.69 Kg   \n",
       "1         Not found  1.80 Kg   \n",
       "2         Not found  1.69 Kg   \n",
       "3     3-cell Li-ion  1.63 Kg   \n",
       "4     3-cell Li-ion   1.7 Kg   \n",
       "\n",
       "                                              Webcam          Display Size  \n",
       "0                      HP True Vision 720p HD camera  39.62 cm (15.6 Inch)  \n",
       "1                720p HD camera With privacy shutter    40.64 cm (16 Inch)  \n",
       "2  HP True Vision 720p HD camera with temporal no...  39.62 cm (15.6 inch)  \n",
       "3                720p HD camera With privacy shutter  39.62 cm (15.6 Inch)  \n",
       "4                720p HD camera With privacy shutter  39.62 cm (15.6 Inch)  "
      ]
     },
     "execution_count": 7,
     "metadata": {},
     "output_type": "execute_result"
    }
   ],
   "source": [
    "# Load the CSV file into a DataFrame\n",
    "import pandas as pd\n",
    "df = pd.read_csv(\"flipkart_laptop_final.csv\")\n",
    "\n",
    "# Show the first 5 rows to confirm\n",
    "df.head()"
   ]
  },
  {
   "cell_type": "code",
   "execution_count": 8,
   "id": "4bd41390",
   "metadata": {},
   "outputs": [
    {
     "name": "stdout",
     "output_type": "stream",
     "text": [
      "<class 'pandas.core.frame.DataFrame'>\n",
      "RangeIndex: 696 entries, 0 to 695\n",
      "Data columns (total 9 columns):\n",
      " #   Column          Non-Null Count  Dtype \n",
      "---  ------          --------------  ----- \n",
      " 0   Product Name    696 non-null    object\n",
      " 1   Specifications  696 non-null    object\n",
      " 2   Rating          696 non-null    object\n",
      " 3   Price           696 non-null    object\n",
      " 4   Product URL     696 non-null    object\n",
      " 5   Battery Life    696 non-null    object\n",
      " 6   Weight          696 non-null    object\n",
      " 7   Webcam          696 non-null    object\n",
      " 8   Display Size    696 non-null    object\n",
      "dtypes: object(9)\n",
      "memory usage: 49.1+ KB\n"
     ]
    }
   ],
   "source": [
    "\n",
    "df.info()"
   ]
  },
  {
   "cell_type": "code",
   "execution_count": 9,
   "id": "898d3de6",
   "metadata": {},
   "outputs": [
    {
     "data": {
      "text/plain": [
       "Product Name      0\n",
       "Specifications    0\n",
       "Rating            0\n",
       "Price             0\n",
       "Product URL       0\n",
       "Battery Life      0\n",
       "Weight            0\n",
       "Webcam            0\n",
       "Display Size      0\n",
       "dtype: int64"
      ]
     },
     "execution_count": 9,
     "metadata": {},
     "output_type": "execute_result"
    }
   ],
   "source": [
    "df.isnull().sum()"
   ]
  },
  {
   "cell_type": "code",
   "execution_count": 10,
   "id": "24d2767a",
   "metadata": {},
   "outputs": [
    {
     "data": {
      "text/plain": [
       "0"
      ]
     },
     "execution_count": 10,
     "metadata": {},
     "output_type": "execute_result"
    }
   ],
   "source": [
    "df.duplicated().sum()"
   ]
  },
  {
   "cell_type": "code",
   "execution_count": 11,
   "id": "758bd42d",
   "metadata": {},
   "outputs": [
    {
     "data": {
      "text/plain": [
       "Product Name      object\n",
       "Specifications    object\n",
       "Rating            object\n",
       "Price             object\n",
       "Product URL       object\n",
       "Battery Life      object\n",
       "Weight            object\n",
       "Webcam            object\n",
       "Display Size      object\n",
       "dtype: object"
      ]
     },
     "execution_count": 11,
     "metadata": {},
     "output_type": "execute_result"
    }
   ],
   "source": [
    "df.dtypes"
   ]
  },
  {
   "cell_type": "code",
   "execution_count": 12,
   "id": "c292d28e",
   "metadata": {},
   "outputs": [
    {
     "data": {
      "text/plain": [
       "Product Name      407\n",
       "Specifications    376\n",
       "Rating             21\n",
       "Price             407\n",
       "Product URL       696\n",
       "Battery Life       76\n",
       "Weight            116\n",
       "Webcam            105\n",
       "Display Size       26\n",
       "dtype: int64"
      ]
     },
     "execution_count": 12,
     "metadata": {},
     "output_type": "execute_result"
    }
   ],
   "source": [
    "df.nunique()"
   ]
  },
  {
   "cell_type": "code",
   "execution_count": 13,
   "id": "fc3690e0",
   "metadata": {},
   "outputs": [
    {
     "data": {
      "text/plain": [
       "Index(['Product Name', 'Specifications', 'Rating', 'Price', 'Product URL',\n",
       "       'Battery Life', 'Weight', 'Webcam', 'Display Size'],\n",
       "      dtype='object')"
      ]
     },
     "execution_count": 13,
     "metadata": {},
     "output_type": "execute_result"
    }
   ],
   "source": [
    "df.columns"
   ]
  },
  {
   "cell_type": "code",
   "execution_count": 14,
   "id": "f7baa6c6",
   "metadata": {},
   "outputs": [],
   "source": [
    "# =========================\n",
    "# Price Cleaning\n",
    "# =========================\n",
    "df['Price'] = (\n",
    "    df['Price'].astype(str)\n",
    "    .str.extract(r'₹([\\d,]+)')[0]\n",
    "    .str.replace(',', '', regex=True)\n",
    "    .astype(float)\n",
    ")\n",
    "df = df.dropna(subset=['Price'])\n",
    "df['Price'] = df['Price'].astype(int)\n"
   ]
  },
  {
   "cell_type": "code",
   "execution_count": 15,
   "id": "f5b39af0",
   "metadata": {},
   "outputs": [
    {
     "data": {
      "text/plain": [
       "count       696.000000\n",
       "mean      54090.268678\n",
       "std       25794.861414\n",
       "min       10999.000000\n",
       "25%       37341.000000\n",
       "50%       49990.000000\n",
       "75%       69990.000000\n",
       "max      232490.000000\n",
       "Name: Price, dtype: float64"
      ]
     },
     "execution_count": 15,
     "metadata": {},
     "output_type": "execute_result"
    }
   ],
   "source": [
    "df['Price'].describe()"
   ]
  },
  {
   "cell_type": "code",
   "execution_count": 16,
   "id": "2346c073",
   "metadata": {},
   "outputs": [],
   "source": [
    "# =========================\n",
    "# Remove 'Not found'  prices\n",
    "# =========================\n",
    "df = df[~(df['Price'] == 'Not found')]\n"
   ]
  },
  {
   "cell_type": "code",
   "execution_count": 18,
   "id": "7d1d153a",
   "metadata": {},
   "outputs": [],
   "source": [
    "# =========================\n",
    "# Clean Product Name\n",
    "# =========================\n",
    "import re\n",
    "def extract_laptop_name(text):\n",
    "    return re.split(r'Intel|AMD|\\(|-', text)[0].strip()\n",
    "\n",
    "df['Clean Name'] = df['Product Name'].apply(extract_laptop_name)\n",
    "df['Product Name'] = df['Clean Name']\n",
    "df.drop(columns=['Clean Name'], inplace=True)\n"
   ]
  },
  {
   "cell_type": "code",
   "execution_count": 22,
   "id": "0c6b8d6a",
   "metadata": {},
   "outputs": [],
   "source": [
    "# # =========================\n",
    "# # Brand Extraction (First word of name)\n",
    "# # =========================\n",
    "df['Brand'] = df['Product Name'].apply(lambda x: x.split()[0])\n"
   ]
  },
  {
   "cell_type": "code",
   "execution_count": 23,
   "id": "558a0d13",
   "metadata": {},
   "outputs": [],
   "source": [
    "# # =========================\n",
    "# # Fix spacing between letters and digits in 'Specifications'\n",
    "# # =========================\n",
    "df[\"Specifications\"] = df[\"Specifications\"].astype(str).apply(\n",
    "    lambda x: re.sub(r\"(?<=[a-zA-Z])(?=\\d)\", \" \", x)\n",
    ")\n"
   ]
  },
  {
   "cell_type": "code",
   "execution_count": 24,
   "id": "4d5aab73",
   "metadata": {},
   "outputs": [],
   "source": [
    "# =========================\n",
    "# Extract core features from 'Specifications'\n",
    "# =========================\n",
    "def extract_feature(pattern, text):\n",
    "    match = re.search(pattern, text)\n",
    "    return match.group(0).strip() if match else \"Not found\"\n",
    "\n",
    "df[\"Processor\"] = df[\"Specifications\"].apply(lambda x: extract_feature(r\"(Intel|AMD|Celeron)[^,\\n]*Processor\\s*\\([^)]*\\)?\", x))\n",
    "df[\"RAM\"] = df[\"Specifications\"].apply(lambda x: extract_feature(r\"\\d+\\s*GB\", x))\n",
    "df[\"DDR\"] = df[\"Specifications\"].apply(lambda x: extract_feature(r\"(LP)?DDR\\d?\", x))\n",
    "df[\"OS\"] = df[\"Specifications\"].apply(lambda x: extract_feature(r\"Windows\\s+11\\s*(Home)?\", x))\n",
    "df[\"Storage\"] = df[\"Specifications\"].apply(lambda x: extract_feature(r\"\\d+\\s*(GB|TB)\\s*SSD\", x))\n",
    "df[\"Display\"] = df[\"Specifications\"].apply(lambda x: extract_feature(r\"\\d{2}\\.\\d{2}\\s*cm\\s*\\([^)]+\\)\", x))\n",
    "df[\"Warranty\"] = df[\"Specifications\"].apply(lambda x: extract_feature(r\"\\d+\\s*Year\\s+(Onsite|Carry-in)?\\s*Warranty\", x))\n"
   ]
  },
  {
   "cell_type": "code",
   "execution_count": 25,
   "id": "194062f9",
   "metadata": {},
   "outputs": [],
   "source": [
    "# =========================\n",
    "# Final formatted 'text' column\n",
    "# =========================\n",
    "\n",
    "\n",
    "def format_product(row):\n",
    "    return (\n",
    "        f\"Product: {row['Product Name']}, Brand: {row['Brand']}, Rating: {row['Rating']}, Price: ₹{row['Price']}, \"\n",
    "        f\"Processor: {row['Processor']}, RAM: {row['RAM']} GB, DDR: {row['DDR']}, OS: {row['OS']}, \"\n",
    "        f\"Storage: {row['Storage']}, \"\n",
    "        f\"Weight: {row['Weight']} kg, \"\n",
    "        f\"Warranty: {row['Warranty']}\"\n",
    "    )\n",
    "df[\"text\"] = df.apply(format_product, axis=1)"
   ]
  },
  {
   "cell_type": "code",
   "execution_count": 26,
   "id": "7f00fdd0",
   "metadata": {},
   "outputs": [
    {
     "name": "stdout",
     "output_type": "stream",
     "text": [
      "✅ Cleaned data saved to flipkart_laptop_cleaned.csv\n"
     ]
    }
   ],
   "source": [
    "# =========================\n",
    "# Export final clean dataset\n",
    "# =========================\n",
    "df.to_csv(\"scraped_products.csv\", index=False)\n",
    "print(\"✅ Cleaned data saved to flipkart_laptop_cleaned.csv\")\n"
   ]
  },
  {
   "cell_type": "code",
   "execution_count": null,
   "id": "4f338819",
   "metadata": {},
   "outputs": [],
   "source": []
  }
 ],
 "metadata": {
  "kernelspec": {
   "display_name": "base",
   "language": "python",
   "name": "python3"
  },
  "language_info": {
   "codemirror_mode": {
    "name": "ipython",
    "version": 3
   },
   "file_extension": ".py",
   "mimetype": "text/x-python",
   "name": "python",
   "nbconvert_exporter": "python",
   "pygments_lexer": "ipython3",
   "version": "3.10.16"
  }
 },
 "nbformat": 4,
 "nbformat_minor": 5
}
